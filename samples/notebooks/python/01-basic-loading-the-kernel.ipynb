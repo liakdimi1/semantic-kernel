{
 "cells": [
  {
   "attachments": {},
   "cell_type": "markdown",
   "metadata": {},
   "source": [
    "# Basic Loading of the Kernel"
   ]
  },
  {
   "attachments": {},
   "cell_type": "markdown",
   "metadata": {},
   "source": [
    "To run the notebooks we recommend using Poetry and starting a shell with a virtual environment\n",
    "prepared to use SK. \n",
    "\n",
    "See [DEV_SETUP.md](../../../python/DEV_SETUP.md) for more information."
   ]
  },
  {
   "cell_type": "code",
   "execution_count": 2,
   "metadata": {},
   "outputs": [
    {
     "name": "stdout",
     "output_type": "stream",
     "text": [
      "Collecting semantic-kernel==0.3.1.dev0\n",
      "  Downloading semantic_kernel-0.3.1.dev0-py3-none-any.whl (95 kB)\n",
      "                                              0.0/95.6 kB ? eta -:--:--\n",
      "     ------------                           30.7/95.6 kB 640.0 kB/s eta 0:00:01\n",
      "     ---------------------------------------- 95.6/95.6 kB 1.1 MB/s eta 0:00:00\n",
      "Collecting aiofiles<24.0.0,>=23.1.0 (from semantic-kernel==0.3.1.dev0)\n",
      "  Downloading aiofiles-23.1.0-py3-none-any.whl (14 kB)\n",
      "Collecting numpy<2.0.0,>=1.24.2 (from semantic-kernel==0.3.1.dev0)\n",
      "  Downloading numpy-1.25.2-cp311-cp311-win_amd64.whl (15.5 MB)\n",
      "                                              0.0/15.5 MB ? eta -:--:--\n",
      "                                              0.1/15.5 MB 1.9 MB/s eta 0:00:09\n",
      "                                              0.2/15.5 MB 1.5 MB/s eta 0:00:11\n",
      "                                              0.3/15.5 MB 2.5 MB/s eta 0:00:07\n",
      "     -                                        0.5/15.5 MB 2.6 MB/s eta 0:00:06\n",
      "     -                                        0.6/15.5 MB 2.5 MB/s eta 0:00:07\n",
      "     --                                       0.8/15.5 MB 2.8 MB/s eta 0:00:06\n",
      "     --                                       1.0/15.5 MB 3.0 MB/s eta 0:00:05\n",
      "     ---                                      1.2/15.5 MB 3.1 MB/s eta 0:00:05\n",
      "     ---                                      1.3/15.5 MB 3.2 MB/s eta 0:00:05\n",
      "     ---                                      1.5/15.5 MB 3.2 MB/s eta 0:00:05\n",
      "     ----                                     1.7/15.5 MB 3.3 MB/s eta 0:00:05\n",
      "     ----                                     1.9/15.5 MB 3.3 MB/s eta 0:00:05\n",
      "     -----                                    2.0/15.5 MB 3.3 MB/s eta 0:00:05\n",
      "     -----                                    2.0/15.5 MB 3.3 MB/s eta 0:00:05\n",
      "     -----                                    2.0/15.5 MB 3.3 MB/s eta 0:00:05\n",
      "     -----                                    2.0/15.5 MB 3.3 MB/s eta 0:00:05\n",
      "     -----                                    2.0/15.5 MB 3.3 MB/s eta 0:00:05\n",
      "     -------                                  2.7/15.5 MB 3.4 MB/s eta 0:00:04\n",
      "     -------                                  2.9/15.5 MB 3.2 MB/s eta 0:00:04\n",
      "     -------                                  3.0/15.5 MB 3.3 MB/s eta 0:00:04\n",
      "     --------                                 3.3/15.5 MB 3.3 MB/s eta 0:00:04\n",
      "     --------                                 3.5/15.5 MB 3.4 MB/s eta 0:00:04\n",
      "     ---------                                3.7/15.5 MB 3.5 MB/s eta 0:00:04\n",
      "     ---------                                3.9/15.5 MB 3.4 MB/s eta 0:00:04\n",
      "     ----------                               4.1/15.5 MB 3.5 MB/s eta 0:00:04\n",
      "     -----------                              4.4/15.5 MB 3.6 MB/s eta 0:00:04\n",
      "     -----------                              4.6/15.5 MB 3.6 MB/s eta 0:00:04\n",
      "     ------------                             4.7/15.5 MB 3.6 MB/s eta 0:00:04\n",
      "     ------------                             4.8/15.5 MB 3.5 MB/s eta 0:00:04\n",
      "     ------------                             4.9/15.5 MB 3.5 MB/s eta 0:00:04\n",
      "     ------------                             5.0/15.5 MB 3.4 MB/s eta 0:00:04\n",
      "     ------------                             5.0/15.5 MB 3.4 MB/s eta 0:00:04\n",
      "     ------------                             5.0/15.5 MB 3.4 MB/s eta 0:00:04\n",
      "     ------------                             5.0/15.5 MB 3.4 MB/s eta 0:00:04\n",
      "     ------------                             5.0/15.5 MB 3.4 MB/s eta 0:00:04\n",
      "     ------------                             5.0/15.5 MB 3.4 MB/s eta 0:00:04\n",
      "     ------------                             5.0/15.5 MB 3.4 MB/s eta 0:00:04\n",
      "     --------------                           5.7/15.5 MB 3.3 MB/s eta 0:00:04\n",
      "     --------------                           5.8/15.5 MB 3.2 MB/s eta 0:00:04\n",
      "     ---------------                          5.9/15.5 MB 3.2 MB/s eta 0:00:04\n",
      "     ---------------                          6.0/15.5 MB 3.2 MB/s eta 0:00:04\n",
      "     ----------------                         6.2/15.5 MB 3.2 MB/s eta 0:00:03\n",
      "     ----------------                         6.4/15.5 MB 3.2 MB/s eta 0:00:03\n",
      "     ----------------                         6.6/15.5 MB 3.2 MB/s eta 0:00:03\n",
      "     -----------------                        6.7/15.5 MB 3.2 MB/s eta 0:00:03\n",
      "     -----------------                        6.8/15.5 MB 3.2 MB/s eta 0:00:03\n",
      "     ------------------                       7.0/15.5 MB 3.2 MB/s eta 0:00:03\n",
      "     ------------------                       7.1/15.5 MB 3.2 MB/s eta 0:00:03\n",
      "     ------------------                       7.3/15.5 MB 3.2 MB/s eta 0:00:03\n",
      "     -------------------                      7.5/15.5 MB 3.2 MB/s eta 0:00:03\n",
      "     -------------------                      7.7/15.5 MB 3.2 MB/s eta 0:00:03\n",
      "     --------------------                     7.8/15.5 MB 3.2 MB/s eta 0:00:03\n",
      "     --------------------                     8.0/15.5 MB 3.2 MB/s eta 0:00:03\n",
      "     --------------------                     8.1/15.5 MB 3.2 MB/s eta 0:00:03\n",
      "     ---------------------                    8.3/15.5 MB 3.2 MB/s eta 0:00:03\n",
      "     ---------------------                    8.4/15.5 MB 3.2 MB/s eta 0:00:03\n",
      "     ----------------------                   8.6/15.5 MB 3.2 MB/s eta 0:00:03\n",
      "     ----------------------                   8.7/15.5 MB 3.2 MB/s eta 0:00:03\n",
      "     ----------------------                   8.8/15.5 MB 3.2 MB/s eta 0:00:03\n",
      "     ----------------------                   8.9/15.5 MB 3.2 MB/s eta 0:00:03\n",
      "     -----------------------                  9.1/15.5 MB 3.2 MB/s eta 0:00:02\n",
      "     ------------------------                 9.4/15.5 MB 3.2 MB/s eta 0:00:02\n",
      "     ------------------------                 9.5/15.5 MB 3.2 MB/s eta 0:00:02\n",
      "     ------------------------                 9.6/15.5 MB 3.2 MB/s eta 0:00:02\n",
      "     -------------------------                9.7/15.5 MB 3.2 MB/s eta 0:00:02\n",
      "     -------------------------                9.9/15.5 MB 3.2 MB/s eta 0:00:02\n",
      "     -------------------------                10.1/15.5 MB 3.2 MB/s eta 0:00:02\n",
      "     --------------------------               10.3/15.5 MB 3.2 MB/s eta 0:00:02\n",
      "     --------------------------               10.4/15.5 MB 3.3 MB/s eta 0:00:02\n",
      "     --------------------------               10.5/15.5 MB 3.3 MB/s eta 0:00:02\n",
      "     ---------------------------              10.5/15.5 MB 3.2 MB/s eta 0:00:02\n",
      "     ---------------------------              10.6/15.5 MB 3.2 MB/s eta 0:00:02\n",
      "     ---------------------------              10.8/15.5 MB 3.2 MB/s eta 0:00:02\n",
      "     ----------------------------             10.9/15.5 MB 3.2 MB/s eta 0:00:02\n",
      "     ----------------------------             11.0/15.5 MB 3.2 MB/s eta 0:00:02\n",
      "     ----------------------------             11.2/15.5 MB 3.2 MB/s eta 0:00:02\n",
      "     -----------------------------            11.3/15.5 MB 3.2 MB/s eta 0:00:02\n",
      "     -----------------------------            11.5/15.5 MB 3.1 MB/s eta 0:00:02\n",
      "     -----------------------------            11.5/15.5 MB 3.1 MB/s eta 0:00:02\n",
      "     -----------------------------            11.5/15.5 MB 3.1 MB/s eta 0:00:02\n",
      "     -----------------------------            11.5/15.5 MB 3.1 MB/s eta 0:00:02\n",
      "     ------------------------------           11.9/15.5 MB 3.1 MB/s eta 0:00:02\n",
      "     ------------------------------           12.0/15.5 MB 3.1 MB/s eta 0:00:02\n",
      "     -------------------------------          12.1/15.5 MB 3.0 MB/s eta 0:00:02\n",
      "     -------------------------------          12.2/15.5 MB 3.0 MB/s eta 0:00:02\n",
      "     -------------------------------          12.3/15.5 MB 3.2 MB/s eta 0:00:02\n",
      "     -------------------------------          12.3/15.5 MB 3.1 MB/s eta 0:00:02\n",
      "     -------------------------------          12.4/15.5 MB 3.1 MB/s eta 0:00:02\n",
      "     --------------------------------         12.4/15.5 MB 3.1 MB/s eta 0:00:02\n",
      "     --------------------------------         12.6/15.5 MB 3.0 MB/s eta 0:00:01\n",
      "     --------------------------------         12.7/15.5 MB 3.0 MB/s eta 0:00:01\n",
      "     --------------------------------         12.8/15.5 MB 3.0 MB/s eta 0:00:01\n",
      "     --------------------------------         12.8/15.5 MB 2.9 MB/s eta 0:00:01\n",
      "     ---------------------------------        12.9/15.5 MB 2.9 MB/s eta 0:00:01\n",
      "     ---------------------------------        13.1/15.5 MB 2.9 MB/s eta 0:00:01\n",
      "     ---------------------------------        13.2/15.5 MB 2.9 MB/s eta 0:00:01\n",
      "     ----------------------------------       13.3/15.5 MB 2.8 MB/s eta 0:00:01\n",
      "     ----------------------------------       13.5/15.5 MB 2.8 MB/s eta 0:00:01\n",
      "     ----------------------------------       13.6/15.5 MB 2.8 MB/s eta 0:00:01\n",
      "     -----------------------------------      13.7/15.5 MB 2.8 MB/s eta 0:00:01\n",
      "     -----------------------------------      13.8/15.5 MB 2.8 MB/s eta 0:00:01\n",
      "     -----------------------------------      14.0/15.5 MB 2.8 MB/s eta 0:00:01\n",
      "     ------------------------------------     14.1/15.5 MB 2.8 MB/s eta 0:00:01\n",
      "     ------------------------------------     14.3/15.5 MB 2.8 MB/s eta 0:00:01\n",
      "     -------------------------------------    14.5/15.5 MB 2.8 MB/s eta 0:00:01\n",
      "     -------------------------------------    14.6/15.5 MB 2.8 MB/s eta 0:00:01\n",
      "     -------------------------------------    14.8/15.5 MB 2.7 MB/s eta 0:00:01\n",
      "     --------------------------------------   14.9/15.5 MB 2.7 MB/s eta 0:00:01\n",
      "     --------------------------------------   15.0/15.5 MB 2.8 MB/s eta 0:00:01\n",
      "     --------------------------------------   15.1/15.5 MB 2.7 MB/s eta 0:00:01\n",
      "     --------------------------------------   15.2/15.5 MB 2.7 MB/s eta 0:00:01\n",
      "     ---------------------------------------  15.3/15.5 MB 2.9 MB/s eta 0:00:01\n",
      "     ---------------------------------------  15.3/15.5 MB 2.9 MB/s eta 0:00:01\n",
      "     ---------------------------------------  15.4/15.5 MB 2.9 MB/s eta 0:00:01\n",
      "     ---------------------------------------  15.4/15.5 MB 2.9 MB/s eta 0:00:01\n",
      "     ---------------------------------------  15.5/15.5 MB 2.8 MB/s eta 0:00:01\n",
      "     ---------------------------------------  15.5/15.5 MB 2.8 MB/s eta 0:00:01\n",
      "     ---------------------------------------- 15.5/15.5 MB 2.7 MB/s eta 0:00:00\n",
      "Collecting openai<0.28.0,>=0.27.0 (from semantic-kernel==0.3.1.dev0)\n",
      "  Downloading openai-0.27.8-py3-none-any.whl (73 kB)\n",
      "                                              0.0/73.6 kB ? eta -:--:--\n",
      "     ---------------------------------------- 73.6/73.6 kB 2.0 MB/s eta 0:00:00\n",
      "Collecting python-dotenv==1.0.0 (from semantic-kernel==0.3.1.dev0)\n",
      "  Downloading python_dotenv-1.0.0-py3-none-any.whl (19 kB)\n",
      "Collecting requests>=2.20 (from openai<0.28.0,>=0.27.0->semantic-kernel==0.3.1.dev0)\n",
      "  Downloading requests-2.31.0-py3-none-any.whl (62 kB)\n",
      "                                              0.0/62.6 kB ? eta -:--:--\n",
      "     ---------------------------------------  61.4/62.6 kB 3.2 MB/s eta 0:00:01\n",
      "     ---------------------------------------- 62.6/62.6 kB 1.1 MB/s eta 0:00:00\n",
      "Collecting tqdm (from openai<0.28.0,>=0.27.0->semantic-kernel==0.3.1.dev0)\n",
      "  Downloading tqdm-4.65.0-py3-none-any.whl (77 kB)\n",
      "                                              0.0/77.1 kB ? eta -:--:--\n",
      "     -------------------------------------    71.7/77.1 kB 1.9 MB/s eta 0:00:01\n",
      "     ---------------------------------------- 77.1/77.1 kB 1.4 MB/s eta 0:00:00\n",
      "Collecting aiohttp (from openai<0.28.0,>=0.27.0->semantic-kernel==0.3.1.dev0)\n",
      "  Downloading aiohttp-3.8.5-cp311-cp311-win_amd64.whl (320 kB)\n",
      "                                              0.0/320.6 kB ? eta -:--:--\n",
      "     -----------                             92.2/320.6 kB 5.5 MB/s eta 0:00:01\n",
      "     ---------------------------            235.5/320.6 kB 2.9 MB/s eta 0:00:01\n",
      "     -------------------------------------- 320.6/320.6 kB 2.5 MB/s eta 0:00:00\n",
      "Collecting charset-normalizer<4,>=2 (from requests>=2.20->openai<0.28.0,>=0.27.0->semantic-kernel==0.3.1.dev0)\n",
      "  Downloading charset_normalizer-3.2.0-cp311-cp311-win_amd64.whl (96 kB)\n",
      "                                              0.0/96.6 kB ? eta -:--:--\n",
      "     --------------------------------------   92.2/96.6 kB ? eta -:--:--\n",
      "     ---------------------------------------- 96.6/96.6 kB 5.8 MB/s eta 0:00:00\n",
      "Collecting idna<4,>=2.5 (from requests>=2.20->openai<0.28.0,>=0.27.0->semantic-kernel==0.3.1.dev0)\n",
      "  Downloading idna-3.4-py3-none-any.whl (61 kB)\n",
      "                                              0.0/61.5 kB ? eta -:--:--\n",
      "     ---------------------------------------- 61.5/61.5 kB 3.2 MB/s eta 0:00:00\n",
      "Collecting urllib3<3,>=1.21.1 (from requests>=2.20->openai<0.28.0,>=0.27.0->semantic-kernel==0.3.1.dev0)\n",
      "  Downloading urllib3-2.0.4-py3-none-any.whl (123 kB)\n",
      "                                              0.0/123.9 kB ? eta -:--:--\n",
      "     -------------------------------------  122.9/123.9 kB 3.5 MB/s eta 0:00:01\n",
      "     -------------------------------------- 123.9/123.9 kB 2.4 MB/s eta 0:00:00\n",
      "Collecting certifi>=2017.4.17 (from requests>=2.20->openai<0.28.0,>=0.27.0->semantic-kernel==0.3.1.dev0)\n",
      "  Downloading certifi-2023.7.22-py3-none-any.whl (158 kB)\n",
      "                                              0.0/158.3 kB ? eta -:--:--\n",
      "     ----------                              41.0/158.3 kB 1.9 MB/s eta 0:00:01\n",
      "     -------------------------------------- 158.3/158.3 kB 1.9 MB/s eta 0:00:00\n",
      "Collecting attrs>=17.3.0 (from aiohttp->openai<0.28.0,>=0.27.0->semantic-kernel==0.3.1.dev0)\n",
      "  Downloading attrs-23.1.0-py3-none-any.whl (61 kB)\n",
      "                                              0.0/61.2 kB ? eta -:--:--\n",
      "     ---------------------------------------- 61.2/61.2 kB 3.4 MB/s eta 0:00:00\n",
      "Collecting multidict<7.0,>=4.5 (from aiohttp->openai<0.28.0,>=0.27.0->semantic-kernel==0.3.1.dev0)\n",
      "  Downloading multidict-6.0.4-cp311-cp311-win_amd64.whl (28 kB)\n",
      "Collecting async-timeout<5.0,>=4.0.0a3 (from aiohttp->openai<0.28.0,>=0.27.0->semantic-kernel==0.3.1.dev0)\n",
      "  Downloading async_timeout-4.0.2-py3-none-any.whl (5.8 kB)\n",
      "Collecting yarl<2.0,>=1.0 (from aiohttp->openai<0.28.0,>=0.27.0->semantic-kernel==0.3.1.dev0)\n",
      "  Downloading yarl-1.9.2-cp311-cp311-win_amd64.whl (60 kB)\n",
      "                                              0.0/60.2 kB ? eta -:--:--\n",
      "     ---------------------------------------- 60.2/60.2 kB 3.3 MB/s eta 0:00:00\n",
      "Collecting frozenlist>=1.1.1 (from aiohttp->openai<0.28.0,>=0.27.0->semantic-kernel==0.3.1.dev0)\n",
      "  Downloading frozenlist-1.4.0-cp311-cp311-win_amd64.whl (44 kB)\n",
      "                                              0.0/44.9 kB ? eta -:--:--\n",
      "     ------------------------------------     41.0/44.9 kB 1.9 MB/s eta 0:00:01\n",
      "     ---------------------------------------- 44.9/44.9 kB 2.2 MB/s eta 0:00:00\n",
      "Collecting aiosignal>=1.1.2 (from aiohttp->openai<0.28.0,>=0.27.0->semantic-kernel==0.3.1.dev0)\n",
      "  Downloading aiosignal-1.3.1-py3-none-any.whl (7.6 kB)\n",
      "Requirement already satisfied: colorama in c:\\users\\liakd\\appdata\\roaming\\python\\python311\\site-packages (from tqdm->openai<0.28.0,>=0.27.0->semantic-kernel==0.3.1.dev0) (0.4.6)\n",
      "Installing collected packages: urllib3, tqdm, python-dotenv, numpy, multidict, idna, frozenlist, charset-normalizer, certifi, attrs, async-timeout, aiofiles, yarl, requests, aiosignal, aiohttp, openai, semantic-kernel\n",
      "Successfully installed aiofiles-23.1.0 aiohttp-3.8.5 aiosignal-1.3.1 async-timeout-4.0.2 attrs-23.1.0 certifi-2023.7.22 charset-normalizer-3.2.0 frozenlist-1.4.0 idna-3.4 multidict-6.0.4 numpy-1.25.2 openai-0.27.8 python-dotenv-1.0.0 requests-2.31.0 semantic-kernel-0.3.1.dev0 tqdm-4.65.0 urllib3-2.0.4 yarl-1.9.2\n"
     ]
    },
    {
     "name": "stderr",
     "output_type": "stream",
     "text": [
      "  WARNING: The script tqdm.exe is installed in 'c:\\Users\\liakd\\AppData\\Local\\Programs\\Python\\Python311\\Scripts' which is not on PATH.\n",
      "  Consider adding this directory to PATH or, if you prefer to suppress this warning, use --no-warn-script-location.\n",
      "  WARNING: The script dotenv.exe is installed in 'c:\\Users\\liakd\\AppData\\Local\\Programs\\Python\\Python311\\Scripts' which is not on PATH.\n",
      "  Consider adding this directory to PATH or, if you prefer to suppress this warning, use --no-warn-script-location.\n",
      "  WARNING: The script f2py.exe is installed in 'c:\\Users\\liakd\\AppData\\Local\\Programs\\Python\\Python311\\Scripts' which is not on PATH.\n",
      "  Consider adding this directory to PATH or, if you prefer to suppress this warning, use --no-warn-script-location.\n",
      "  WARNING: The script normalizer.exe is installed in 'c:\\Users\\liakd\\AppData\\Local\\Programs\\Python\\Python311\\Scripts' which is not on PATH.\n",
      "  Consider adding this directory to PATH or, if you prefer to suppress this warning, use --no-warn-script-location.\n",
      "  WARNING: The script openai.exe is installed in 'c:\\Users\\liakd\\AppData\\Local\\Programs\\Python\\Python311\\Scripts' which is not on PATH.\n",
      "  Consider adding this directory to PATH or, if you prefer to suppress this warning, use --no-warn-script-location.\n",
      "\n",
      "[notice] A new release of pip is available: 23.1.2 -> 23.2.1\n",
      "[notice] To update, run: python.exe -m pip install --upgrade pip\n"
     ]
    }
   ],
   "source": [
    "!python -m pip install semantic-kernel==0.3.1.dev0"
   ]
  },
  {
   "cell_type": "code",
   "execution_count": 3,
   "metadata": {},
   "outputs": [],
   "source": [
    "import semantic_kernel as sk\n",
    "from semantic_kernel.connectors.ai.open_ai import AzureTextCompletion, OpenAITextCompletion"
   ]
  },
  {
   "attachments": {},
   "cell_type": "markdown",
   "metadata": {},
   "source": [
    "You can install the kernel in a few ways, depending on your use case."
   ]
  },
  {
   "cell_type": "code",
   "execution_count": 4,
   "metadata": {},
   "outputs": [],
   "source": [
    "# Simple instance\n",
    "kernel_1 = sk.Kernel()"
   ]
  },
  {
   "cell_type": "code",
   "execution_count": 5,
   "metadata": {},
   "outputs": [],
   "source": [
    "# Instance with a custom logger\n",
    "my_logger = sk.NullLogger()\n",
    "kernel_2 = sk.Kernel(log=my_logger)"
   ]
  },
  {
   "attachments": {},
   "cell_type": "markdown",
   "metadata": {},
   "source": [
    "When using the kernel for AI requests, the kernel needs some settings like URL and credentials to the AI models.\n",
    "\n",
    "The SDK currently supports OpenAI and Azure OpenAI, other services will be added over time.\n",
    "\n",
    "If you need an Azure OpenAI key, go [here](https://learn.microsoft.com/en-us/azure/cognitive-services/openai/quickstart?pivots=rest-api)."
   ]
  },
  {
   "cell_type": "code",
   "execution_count": 7,
   "metadata": {},
   "outputs": [
    {
     "data": {
      "text/plain": [
       "<semantic_kernel.kernel.Kernel at 0x202b4ec1f90>"
      ]
     },
     "execution_count": 7,
     "metadata": {},
     "output_type": "execute_result"
    }
   ],
   "source": [
    "kernel = sk.Kernel()\n",
    "\n",
    "kernel.add_text_completion_service(               # We are adding a text service\n",
    "    \"Azure_curie\",                            # The alias we can use in prompt templates' config.json\n",
    "    AzureTextCompletion(\n",
    "        \"my-finetuned-Curie\",                 # Azure OpenAI *Deployment name*\n",
    "        \"https://contoso.openai.azure.com/\",  # Azure OpenAI *Endpoint*\n",
    "        \"...your Azure OpenAI Key...\"         # Azure OpenAI *Key*\n",
    "    )\n",
    ")\n",
    "\n",
    "\n",
    "kernel.add_text_completion_service(               # We are adding a text service\n",
    "    \"OpenAI_gpt3.5_turbo\",                      # The alias we can use in prompt templates' config.json\n",
    "    OpenAITextCompletion(\n",
    "        \"text-gpt3.5-turbo\",                    # GPT-3.5 Turbo Model Name\n",
    "        \"...your OpenAI API Key...\",             # OpenAI API key\n",
    "        \"...your OpenAI Org ID...\"               # *optional* OpenAI Organization ID\n",
    "    )\n",
    ")\n"
   ]
  },
  {
   "attachments": {},
   "cell_type": "markdown",
   "metadata": {},
   "source": [
    "When working with multiple services and multiple models, the **first service** defined\n",
    "is also the \"**default**\" used in these scenarios:\n",
    "\n",
    "* a prompt configuration doesn't specify which AI service to use\n",
    "* a prompt configuration requires a service unknown to the kernel\n",
    "\n",
    "The default can be set and changed programmatically:"
   ]
  },
  {
   "cell_type": "code",
   "execution_count": 8,
   "metadata": {},
   "outputs": [
    {
     "data": {
      "text/plain": [
       "<semantic_kernel.kernel.Kernel at 0x202b4ec1f90>"
      ]
     },
     "execution_count": 8,
     "metadata": {},
     "output_type": "execute_result"
    }
   ],
   "source": [
    "kernel.set_default_text_completion_service(\"Azure_curie\")"
   ]
  },
  {
   "attachments": {},
   "cell_type": "markdown",
   "metadata": {},
   "source": [
    "Great, now that you're familiar with setting up the Semantic Kernel, let's see [how we can use it to run prompts](02-running-prompts-from-file.ipynb)."
   ]
  }
 ],
 "metadata": {
  "kernelspec": {
   "display_name": "Python 3 (ipykernel)",
   "language": "python",
   "name": "python3"
  },
  "language_info": {
   "codemirror_mode": {
    "name": "ipython",
    "version": 3
   },
   "file_extension": ".py",
   "mimetype": "text/x-python",
   "name": "python",
   "nbconvert_exporter": "python",
   "pygments_lexer": "ipython3",
   "version": "3.11.4"
  },
  "polyglot_notebook": {
   "kernelInfo": {
    "items": [
     {
      "aliases": [
       "frontend"
      ],
      "name": "vscode"
     }
    ]
   }
  }
 },
 "nbformat": 4,
 "nbformat_minor": 2
}
